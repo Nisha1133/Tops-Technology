{
  "cells": [
    {
      "cell_type": "markdown",
      "metadata": {
        "id": "TyvX5qhH_ud1"
      },
      "source": [
        "##### 4) Write a Python program to check if a number is positive, negative or zero.\n",
        "\n"
      ]
    },
    {
      "cell_type": "code",
      "execution_count": 2,
      "metadata": {
        "colab": {
          "base_uri": "https://localhost:8080/"
        },
        "id": "rmyMRoKE_ud3",
        "outputId": "0d29fa83-507a-46bb-f1eb-2ff92b7dae58"
      },
      "outputs": [
        {
          "output_type": "stream",
          "name": "stdout",
          "text": [
            "Enter a number: 9\n",
            "The number is positive\n"
          ]
        }
      ],
      "source": [
        "number = int(input(\"Enter a number: \"))\n",
        "\n",
        "if number > 0:\n",
        "    print(\"The number is positive\")\n",
        "elif number < 0:\n",
        "    print(\"The number is negative\")\n",
        "else:\n",
        "    print(\"The number is zero\")\n"
      ]
    },
    {
      "cell_type": "markdown",
      "metadata": {
        "id": "qpcDj-K3_ud4"
      },
      "source": [
        "##### 5)Write a Python program to get the Factorial number of given numbers.\n"
      ]
    },
    {
      "cell_type": "code",
      "execution_count": 3,
      "metadata": {
        "id": "rLYelzfi_ud5",
        "outputId": "fe4b38eb-068a-4679-d2b1-dc3aa5604341",
        "colab": {
          "base_uri": "https://localhost:8080/"
        }
      },
      "outputs": [
        {
          "output_type": "stream",
          "name": "stdout",
          "text": [
            "Enter a number: 8\n",
            "Factorial of 8 is 40320\n"
          ]
        }
      ],
      "source": [
        "n = int(input(\"Enter a number: \"))\n",
        "f = 1\n",
        "\n",
        "if n < 0:\n",
        "    print(\"No factorial for negative\")\n",
        "elif n == 0:\n",
        "    print(\"Factorial of 0 is 1\")\n",
        "else:\n",
        "    for i in range(1, n + 1):\n",
        "        f = f * i\n",
        "    print(\"Factorial of\", n, \"is\", f)\n"
      ]
    },
    {
      "cell_type": "markdown",
      "metadata": {
        "id": "BSqV7qTR_ud6"
      },
      "source": [
        "##### 6)Write a Python program to get the Fibonacci series of given range.\n"
      ]
    },
    {
      "cell_type": "code",
      "execution_count": 4,
      "metadata": {
        "colab": {
          "base_uri": "https://localhost:8080/"
        },
        "id": "X1uO6CcI_ud6",
        "outputId": "190ce57e-5148-4302-ec13-120d2ab0ffdd"
      },
      "outputs": [
        {
          "output_type": "stream",
          "name": "stdout",
          "text": [
            "Enter range: 9\n",
            "Fibonacci series:\n",
            "0 1 1 2 3 5 8 13 21 "
          ]
        }
      ],
      "source": [
        "r = int(input(\"Enter range: \"))\n",
        "a, b = 0, 1\n",
        "\n",
        "print(\"Fibonacci series:\")\n",
        "for _ in range(r):\n",
        "    print(a, end=\" \")\n",
        "    a, b = b, a + b\n"
      ]
    },
    {
      "cell_type": "markdown",
      "metadata": {
        "id": "56Uohy7f_ud6"
      },
      "source": [
        "##### 9) Write python program that swap two number with temp variable\n",
        "and without temp variable."
      ]
    },
    {
      "cell_type": "code",
      "execution_count": null,
      "metadata": {
        "colab": {
          "base_uri": "https://localhost:8080/"
        },
        "id": "PrPZs9QZ_ud7",
        "outputId": "e48b7697-f682-4b50-fc5e-75a1bae2bf42"
      },
      "outputs": [
        {
          "output_type": "stream",
          "name": "stdout",
          "text": [
            "Enter first number again: 5\n",
            "Enter second number again: 6\n",
            "After swapping without temp variable: x = 6 , y = 5\n"
          ]
        }
      ],
      "source": [
        "x = int(input(\"Enter first number again: \"))\n",
        "y = int(input(\"Enter second number again: \"))\n",
        "\n",
        "x = x + y\n",
        "y = x - y\n",
        "x = x - y\n",
        "print(\"After swapping without temp variable: x =\", x, \", y =\", y)"
      ]
    },
    {
      "cell_type": "markdown",
      "metadata": {
        "id": "5NmaMvcj_ud7"
      },
      "source": [
        "##### 10) Write a Python program to find whether a given number is even\n",
        "or odd, print out an appropriate message to the user.\n"
      ]
    },
    {
      "cell_type": "code",
      "execution_count": null,
      "metadata": {
        "colab": {
          "base_uri": "https://localhost:8080/"
        },
        "id": "qEwgC84R_ud7",
        "outputId": "7c76f161-9e42-4793-def9-e541a4d1e675"
      },
      "outputs": [
        {
          "output_type": "stream",
          "name": "stdout",
          "text": [
            "Enter a number: 6\n",
            "6 is even\n"
          ]
        }
      ],
      "source": [
        "num = int(input(\"Enter a number: \"))\n",
        "\n",
        "if num % 2 == 0:\n",
        "    print(num, \"is even\")\n",
        "else:\n",
        "    print(num, \"is odd\")"
      ]
    },
    {
      "cell_type": "markdown",
      "metadata": {
        "id": "E5B200uT_ud8"
      },
      "source": [
        "##### 11) Write a Python program to test whether a passed letter is a vowel or not.\n"
      ]
    },
    {
      "cell_type": "code",
      "execution_count": null,
      "metadata": {
        "colab": {
          "base_uri": "https://localhost:8080/"
        },
        "id": "iOQVNj3i_ud8",
        "outputId": "29ed5358-8ecd-41aa-aa59-76ae1a438af6"
      },
      "outputs": [
        {
          "output_type": "stream",
          "name": "stdout",
          "text": [
            "Enter a letter: a\n",
            "a is a vowel\n"
          ]
        }
      ],
      "source": [
        "letter = input(\"Enter a letter: \")\n",
        "\n",
        "if letter.lower() in \"aeiou\":\n",
        "    print(letter, \"is a vowel\")\n",
        "else:\n",
        "    print(letter, \"is not a vowel\")\n"
      ]
    },
    {
      "cell_type": "markdown",
      "metadata": {
        "id": "JKKO9MvU_ud8"
      },
      "source": [
        "##### 12) Write a Python program to sum of three given integers. However, if two values are equal sum will be zero.\n"
      ]
    },
    {
      "cell_type": "code",
      "execution_count": null,
      "metadata": {
        "colab": {
          "base_uri": "https://localhost:8080/"
        },
        "id": "bzevy2RS_ud9",
        "outputId": "4920c207-3f9a-42d2-b363-c94ecdd30412"
      },
      "outputs": [
        {
          "output_type": "stream",
          "name": "stdout",
          "text": [
            "Enter first number: 6\n",
            "Enter second number: 5\n",
            "Enter third number: 3\n",
            "The result is: 14\n"
          ]
        }
      ],
      "source": [
        "a = int(input(\"Enter first number: \"))\n",
        "b = int(input(\"Enter second number: \"))\n",
        "c = int(input(\"Enter third number: \"))\n",
        "\n",
        "if a == b or b == c or a == c:\n",
        "    s = 0\n",
        "else:\n",
        "    s = a + b + c\n",
        "\n",
        "print(\"The result is:\", s)\n"
      ]
    },
    {
      "cell_type": "markdown",
      "metadata": {
        "id": "KisVFh1D_ud9"
      },
      "source": [
        "##### 13) Write a Python program that will return true if the two given integer values are equal or their sum or difference is 5.\n"
      ]
    },
    {
      "cell_type": "code",
      "execution_count": null,
      "metadata": {
        "colab": {
          "base_uri": "https://localhost:8080/"
        },
        "id": "SzQnh3qs_ud9",
        "outputId": "c6f30154-5029-4972-da3a-41860acc8206"
      },
      "outputs": [
        {
          "output_type": "stream",
          "name": "stdout",
          "text": [
            "Enter first number: 5\n",
            "Enter second number: 6\n",
            "False\n"
          ]
        }
      ],
      "source": [
        "x = int(input(\"Enter first number: \"))\n",
        "y = int(input(\"Enter second number: \"))\n",
        "\n",
        "if x == y or x + y == 5 or abs(x - y) == 5:\n",
        "    print(\"True\")\n",
        "else:\n",
        "    print(\"False\")\n"
      ]
    },
    {
      "cell_type": "markdown",
      "metadata": {
        "id": "tJeZk8ac_ud9"
      },
      "source": [
        "##### 14)Write a python program to sum of the first n positive integers."
      ]
    },
    {
      "cell_type": "code",
      "execution_count": null,
      "metadata": {
        "colab": {
          "base_uri": "https://localhost:8080/"
        },
        "id": "eFqR2tML_ud9",
        "outputId": "4eac19af-39fa-4ea0-e6ad-1bb4b6659bf2"
      },
      "outputs": [
        {
          "output_type": "stream",
          "name": "stdout",
          "text": [
            "Enter a number: 4\n",
            "The sum of the first 4 positive integers is: 10\n"
          ]
        }
      ],
      "source": [
        "n = int(input(\"Enter a number: \"))\n",
        "total = 0\n",
        "\n",
        "for i in range(1, n + 1):\n",
        "    total += i\n",
        "\n",
        "print(\"The sum of the first\", n, \"positive integers is:\", total)\n"
      ]
    },
    {
      "cell_type": "markdown",
      "metadata": {
        "id": "5fhLO60O_ud-"
      },
      "source": [
        "##### 15)Write a Python program to calculate the length of a string.\n"
      ]
    },
    {
      "cell_type": "code",
      "execution_count": null,
      "metadata": {
        "colab": {
          "base_uri": "https://localhost:8080/"
        },
        "id": "PJ173N6__ud-",
        "outputId": "43670cda-e16b-4011-e879-85cabc300975"
      },
      "outputs": [
        {
          "output_type": "stream",
          "name": "stdout",
          "text": [
            "Enter a string: 'abhi'\n",
            "The length of the string is: 6\n"
          ]
        }
      ],
      "source": [
        "s = input(\"Enter a string: \")\n",
        "length = len(s)\n",
        "print(\"The length of the string is:\", length)\n"
      ]
    },
    {
      "cell_type": "markdown",
      "metadata": {
        "id": "HYCnbnLr_ud-"
      },
      "source": [
        "##### 16) Write a Python program to count the number of characters (character frequency) in a string\n"
      ]
    },
    {
      "cell_type": "code",
      "execution_count": null,
      "metadata": {
        "colab": {
          "base_uri": "https://localhost:8080/"
        },
        "id": "LnDntGhK_ud-",
        "outputId": "fda07deb-415a-420d-83b6-a609bb9f0885"
      },
      "outputs": [
        {
          "output_type": "stream",
          "name": "stdout",
          "text": [
            "Enter a string: ' abhiaaa    '\n",
            "Character frequency: {\"'\": 2, ' ': 5, 'a': 4, 'b': 1, 'h': 1, 'i': 1}\n"
          ]
        }
      ],
      "source": [
        "s = input(\"Enter a string: \")\n",
        "freq = {}\n",
        "\n",
        "for char in s:\n",
        "    if char in freq:\n",
        "        freq[char] += 1\n",
        "    else:\n",
        "        freq[char] = 1\n",
        "\n",
        "print(\"Character frequency:\", freq)\n"
      ]
    },
    {
      "cell_type": "markdown",
      "metadata": {
        "id": "Nf0ytiPs_ud_"
      },
      "source": [
        "##### 18)Write a Python program to count occurrences of a substring in a string"
      ]
    },
    {
      "cell_type": "code",
      "execution_count": null,
      "metadata": {
        "colab": {
          "base_uri": "https://localhost:8080/"
        },
        "id": "EYR2iVZL_ud_",
        "outputId": "6177b19a-6510-4987-ad31-1f51084195e3"
      },
      "outputs": [
        {
          "output_type": "stream",
          "name": "stdout",
          "text": [
            "Enter a string: 'abhi'\n",
            "Enter the substring to count: 5\n",
            "The substring occurs 0 times.\n"
          ]
        }
      ],
      "source": [
        "s = input(\"Enter a string: \")\n",
        "substring = input(\"Enter the substring to count: \")\n",
        "\n",
        "count = s.count(substring)\n",
        "print(\"The substring occurs\", count, \"times.\")\n"
      ]
    },
    {
      "cell_type": "markdown",
      "metadata": {
        "id": "4h3XDftG_ud_"
      },
      "source": [
        "##### 19) Write a Python program to count the occurrences of each word in a"
      ]
    },
    {
      "cell_type": "code",
      "execution_count": null,
      "metadata": {
        "colab": {
          "base_uri": "https://localhost:8080/"
        },
        "id": "7cXT8bfU_ueA",
        "outputId": "3f60beab-46bb-465e-8fd9-a1771941628a"
      },
      "outputs": [
        {
          "output_type": "stream",
          "name": "stdout",
          "text": [
            "Enter a string: 'abhishek'\n",
            "Word occurrences: {\"'abhishek'\": 1}\n"
          ]
        }
      ],
      "source": [
        "s = input(\"Enter a string: \")\n",
        "words = s.split()\n",
        "word_count = {}\n",
        "\n",
        "for word in words:\n",
        "    if word in word_count:\n",
        "        word_count[word] += 1\n",
        "    else:\n",
        "        word_count[word] = 1\n",
        "\n",
        "print(\"Word occurrences:\", word_count)\n"
      ]
    },
    {
      "cell_type": "markdown",
      "metadata": {
        "id": "VmWhcZRa_ueA"
      },
      "source": [
        "##### 20) Write a Python program to get a single string from two given strings,\n",
        "separated by a space and swap the first two characters of each string.\n"
      ]
    },
    {
      "cell_type": "code",
      "execution_count": null,
      "metadata": {
        "colab": {
          "base_uri": "https://localhost:8080/"
        },
        "id": "kGnaLTwe_ueA",
        "outputId": "8d9a8a95-7c15-4652-aa4a-72ba7b76cfb4"
      },
      "outputs": [
        {
          "output_type": "stream",
          "name": "stdout",
          "text": [
            "Enter first string: 'abhi'\n",
            "Enter second string: 3\n",
            "Resulting string: 3bhi' 'a\n"
          ]
        }
      ],
      "source": [
        "s1 = input(\"Enter first string: \")\n",
        "s2 = input(\"Enter second string: \")\n",
        "\n",
        "new_s1 = s2[:2] + s1[2:]\n",
        "new_s2 = s1[:2] + s2[2:]\n",
        "\n",
        "result = new_s1 + \" \" + new_s2\n",
        "print(\"Resulting string:\", result)\n"
      ]
    },
    {
      "cell_type": "markdown",
      "metadata": {
        "id": "hBOZD44S_ueA"
      },
      "source": [
        "##### 21) Write a Python program to add 'in' at the end of a given string (length should be at least 3). If the given string already ends with 'ing' then add 'ly' instead if the string length of the given string is less than 3, leave it unchanged."
      ]
    },
    {
      "cell_type": "code",
      "execution_count": null,
      "metadata": {
        "colab": {
          "base_uri": "https://localhost:8080/"
        },
        "id": "noZC88yM_ueB",
        "outputId": "2cef7fe5-ed8c-41c2-fce3-f66551d47229"
      },
      "outputs": [
        {
          "output_type": "stream",
          "name": "stdout",
          "text": [
            "Enter a string: 'abhi'\n",
            "Modified string: 'abhi'in\n"
          ]
        }
      ],
      "source": [
        "s = input(\"Enter a string: \")\n",
        "\n",
        "if len(s) >= 3:\n",
        "    if s.endswith(\"ing\"):\n",
        "        s += \"ly\"\n",
        "    else:\n",
        "        s += \"in\"\n",
        "\n",
        "print(\"Modified string:\", s)\n"
      ]
    },
    {
      "cell_type": "markdown",
      "metadata": {
        "id": "I-PPl4v0_ueB"
      },
      "source": [
        "##### 22) Write a Python function to reverses a string if its length is a multiple of 4.\n"
      ]
    },
    {
      "cell_type": "code",
      "execution_count": null,
      "metadata": {
        "colab": {
          "base_uri": "https://localhost:8080/"
        },
        "id": "258mnY12_ueB",
        "outputId": "0cbd1aeb-3318-4c2b-ce1e-b54ac02e4a8e"
      },
      "outputs": [
        {
          "output_type": "stream",
          "name": "stdout",
          "text": [
            "Enter a string: 'abhi'\n",
            "Resulting string: 'abhi'\n"
          ]
        }
      ],
      "source": [
        "def reverse_if_multiple_of_4(s):\n",
        "    if len(s) % 4 == 0:\n",
        "        return s[::-1]\n",
        "    else:\n",
        "        return s\n",
        "\n",
        "s = input(\"Enter a string: \")\n",
        "result = reverse_if_multiple_of_4(s)\n",
        "print(\"Resulting string:\", result)\n"
      ]
    },
    {
      "cell_type": "markdown",
      "metadata": {
        "id": "QxonovjR_ueC"
      },
      "source": [
        "##### 23) Write a Python program to get a string made of the first 2 and the last 2 chars from a given a string. If the string length is less than 2, return instead of the empty string"
      ]
    },
    {
      "cell_type": "code",
      "execution_count": null,
      "metadata": {
        "colab": {
          "base_uri": "https://localhost:8080/"
        },
        "id": "npn8y5ck_ueC",
        "outputId": "54a6c789-24da-4e31-9e86-43546f1223fb"
      },
      "outputs": [
        {
          "output_type": "stream",
          "name": "stdout",
          "text": [
            "Enter a string: 'nsjds'\n",
            "Resulting string: 'ns'\n"
          ]
        }
      ],
      "source": [
        "s = input(\"Enter a string: \")\n",
        "\n",
        "if len(s) < 2:\n",
        "    print(\"\")\n",
        "else:\n",
        "    result = s[:2] + s[-2:]\n",
        "    print(\"Resulting string:\", result)\n"
      ]
    },
    {
      "cell_type": "markdown",
      "metadata": {
        "id": "nxqM2BuJ_ueC"
      },
      "source": [
        "##### 24)Write a Python function to insert a string in the middle of a string.\n"
      ]
    },
    {
      "cell_type": "code",
      "execution_count": null,
      "metadata": {
        "colab": {
          "base_uri": "https://localhost:8080/"
        },
        "id": "7xgNfqYp_ueC",
        "outputId": "fcfdef60-f3fd-46fc-e545-07b17d1f2ac2"
      },
      "outputs": [
        {
          "output_type": "stream",
          "name": "stdout",
          "text": [
            "Enter the first string: 'aaaad'\n",
            "Enter the string to insert: 4\n",
            "Resulting string: 'aa4aad'\n"
          ]
        }
      ],
      "source": [
        "def insert_in_middle(s1, s2):\n",
        "    middle = len(s1) // 2\n",
        "    return s1[:middle] + s2 + s1[middle:]\n",
        "\n",
        "s1 = input(\"Enter the first string: \")\n",
        "s2 = input(\"Enter the string to insert: \")\n",
        "result = insert_in_middle(s1, s2)\n",
        "print(\"Resulting string:\", result)\n"
      ]
    },
    {
      "cell_type": "markdown",
      "metadata": {
        "id": "QiyBUUvH_ueC"
      },
      "source": [
        "##### 29) Write a Python function to get the largest number, smallest num and sum of all from a list."
      ]
    },
    {
      "cell_type": "code",
      "execution_count": null,
      "metadata": {
        "colab": {
          "base_uri": "https://localhost:8080/"
        },
        "id": "GaMa_Fx4_ueC",
        "outputId": "734cfca3-d80d-43c8-b3ca-c2759128b16e"
      },
      "outputs": [
        {
          "output_type": "stream",
          "name": "stdout",
          "text": [
            "Largest: 40\n",
            "Smallest: 5\n",
            "Sum: 90\n"
          ]
        }
      ],
      "source": [
        "def analyze_numbers(numbers):\n",
        "    largest = max(numbers)\n",
        "    smallest = min(numbers)\n",
        "    total_sum = sum(numbers)\n",
        "    return largest, smallest, total_sum\n",
        "\n",
        "num_list = [10, 20, 5, 40, 15]\n",
        "largest, smallest, total_sum = analyze_numbers(num_list)\n",
        "\n",
        "print(\"Largest:\", largest)\n",
        "print(\"Smallest:\", smallest)\n",
        "print(\"Sum:\", total_sum)\n"
      ]
    },
    {
      "cell_type": "markdown",
      "metadata": {
        "id": "F6g3QAxL_ueD"
      },
      "source": [
        "##### 31) Write a Python program to count the number of strings where the string length is 2 or more and the first and last character are same from a given list of strings.\n"
      ]
    },
    {
      "cell_type": "code",
      "execution_count": null,
      "metadata": {
        "colab": {
          "base_uri": "https://localhost:8080/"
        },
        "id": "Bpe3n2rH_ueI",
        "outputId": "f8e7b1bf-a1a1-4982-d152-cd29635315cf"
      },
      "outputs": [
        {
          "output_type": "stream",
          "name": "stdout",
          "text": [
            "Enter strings separated by space: 'abhi   '\n",
            "Count: 0\n"
          ]
        }
      ],
      "source": [
        "def count_same_first_last(strings):\n",
        "    count = 0\n",
        "    for s in strings:\n",
        "        if len(s) >= 2 and s[0] == s[-1]:\n",
        "            count += 1\n",
        "    return count\n",
        "\n",
        "strings = input(\"Enter strings separated by space: \").split()\n",
        "result = count_same_first_last(strings)\n",
        "print(\"Count:\", result)\n"
      ]
    },
    {
      "cell_type": "markdown",
      "metadata": {
        "id": "FJEwtjtU_ueJ"
      },
      "source": [
        "##### 32)Write a Python program to remove duplicates from a list.\n"
      ]
    },
    {
      "cell_type": "code",
      "execution_count": null,
      "metadata": {
        "colab": {
          "base_uri": "https://localhost:8080/"
        },
        "id": "agtIbbHI_ueJ",
        "outputId": "6fece190-8780-4d8b-eb16-82794c9394a9"
      },
      "outputs": [
        {
          "output_type": "stream",
          "name": "stdout",
          "text": [
            "List without duplicates: [1, 2, 3, 4, 5, 6, 7]\n"
          ]
        }
      ],
      "source": [
        "lst = [1, 2, 3, 4, 4, 5, 6, 7, 7]\n",
        "lst = list(set(lst))\n",
        "print(\"List without duplicates:\", lst)\n"
      ]
    },
    {
      "cell_type": "markdown",
      "metadata": {
        "id": "T_RBC4lJ_ueJ"
      },
      "source": [
        "##### 33)Write a Python program to check a list is empty or not."
      ]
    },
    {
      "cell_type": "code",
      "execution_count": null,
      "metadata": {
        "colab": {
          "base_uri": "https://localhost:8080/"
        },
        "id": "TGKYJSZZ_ueJ",
        "outputId": "d86c9b4f-fb61-4c26-ad9b-f16c37f8c493"
      },
      "outputs": [
        {
          "output_type": "stream",
          "name": "stdout",
          "text": [
            "The list is empty\n"
          ]
        }
      ],
      "source": [
        "lst = []\n",
        "\n",
        "if not lst:\n",
        "    print(\"The list is empty\")\n",
        "else:\n",
        "    print(\"The list is not empty\")\n"
      ]
    },
    {
      "cell_type": "markdown",
      "metadata": {
        "id": "KSBWaJUj_ueJ"
      },
      "source": [
        "##### 34) Write a Python function that takes two lists and returns true if they have at least one common member.\n"
      ]
    },
    {
      "cell_type": "code",
      "execution_count": null,
      "metadata": {
        "colab": {
          "base_uri": "https://localhost:8080/"
        },
        "id": "dwdujdTF_ueK",
        "outputId": "a6316d61-aa7b-4685-af08-c8fdc7401b81"
      },
      "outputs": [
        {
          "output_type": "stream",
          "name": "stdout",
          "text": [
            "True\n"
          ]
        }
      ],
      "source": [
        "def have_common_member(lst1, lst2):\n",
        "    return bool(set(lst1) & set(lst2))\n",
        "\n",
        "lst1 = [1, 2, 3]\n",
        "lst2 = [3, 4, 5]\n",
        "\n",
        "result = have_common_member(lst1, lst2)\n",
        "print(result)\n"
      ]
    },
    {
      "cell_type": "markdown",
      "metadata": {
        "id": "9IneG1Jm_ueK"
      },
      "source": [
        "##### 35) Write a Python program to generate and print a list of first and last 5 elements where the values are square of numbers between 1 and 30."
      ]
    },
    {
      "cell_type": "code",
      "execution_count": null,
      "metadata": {
        "colab": {
          "base_uri": "https://localhost:8080/"
        },
        "id": "MnvSfcGq_ueK",
        "outputId": "402b263b-2f50-41a1-b409-901bd11aa6ef"
      },
      "outputs": [
        {
          "output_type": "stream",
          "name": "stdout",
          "text": [
            "First and last 5 elements: [1, 4, 9, 16, 25, 676, 729, 784, 841, 900]\n"
          ]
        }
      ],
      "source": [
        "lst = [x**2 for x in range(1, 31)]\n",
        "result = lst[:5] + lst[-5:]\n",
        "print(\"First and last 5 elements:\", result)\n"
      ]
    },
    {
      "cell_type": "markdown",
      "metadata": {
        "id": "TbqRzbsJ_ueK"
      },
      "source": [
        "##### 36) Write a Python function that takes a list and returns a new list with unique elements of the first list."
      ]
    },
    {
      "cell_type": "code",
      "execution_count": null,
      "metadata": {
        "colab": {
          "base_uri": "https://localhost:8080/"
        },
        "id": "X6LTm_-5_ueK",
        "outputId": "533c7086-364c-44d0-9f00-23e1a3621e77"
      },
      "outputs": [
        {
          "output_type": "stream",
          "name": "stdout",
          "text": [
            "List with unique elements: [1, 2, 3, 4, 5]\n"
          ]
        }
      ],
      "source": [
        "def unique_elements(lst):\n",
        "    return list(set(lst))\n",
        "\n",
        "lst = [1, 2, 2, 3, 4, 4, 5]\n",
        "result = unique_elements(lst)\n",
        "print(\"List with unique elements:\", result)\n"
      ]
    },
    {
      "cell_type": "markdown",
      "metadata": {
        "id": "R1qr0XGP_ueK"
      },
      "source": [
        "##### 37)Write a Python program to convert a list of characters into a string.\n"
      ]
    },
    {
      "cell_type": "code",
      "execution_count": null,
      "metadata": {
        "colab": {
          "base_uri": "https://localhost:8080/"
        },
        "id": "FEByTRyr_ueL",
        "outputId": "3edcd1ce-3090-44ff-eaec-435aa91a18c3"
      },
      "outputs": [
        {
          "output_type": "stream",
          "name": "stdout",
          "text": [
            "Converted string: Python\n"
          ]
        }
      ],
      "source": [
        "lst = ['P', 'y', 't', 'h', 'o', 'n']\n",
        "result = ''.join(lst)\n",
        "print(\"Converted string:\", result)\n"
      ]
    },
    {
      "cell_type": "markdown",
      "metadata": {
        "id": "f81GdHLo_ueL"
      },
      "source": [
        "##### 38)Write a Python program to select an item randomly from a list"
      ]
    },
    {
      "cell_type": "code",
      "execution_count": null,
      "metadata": {
        "colab": {
          "base_uri": "https://localhost:8080/"
        },
        "id": "tP9DzCk5_ueL",
        "outputId": "84433aa4-16f8-47a0-ea85-db290580b195"
      },
      "outputs": [
        {
          "output_type": "stream",
          "name": "stdout",
          "text": [
            "Randomly selected item: 5\n"
          ]
        }
      ],
      "source": [
        "import random\n",
        "\n",
        "lst = [1, 2, 3, 4, 5]\n",
        "item = random.choice(lst)\n",
        "print(\"Randomly selected item:\", item)\n"
      ]
    },
    {
      "cell_type": "markdown",
      "metadata": {
        "id": "zP_b64rK_ueL"
      },
      "source": [
        "##### 39)Write a Python program to find the second smallest number in a list.\n"
      ]
    },
    {
      "cell_type": "code",
      "execution_count": null,
      "metadata": {
        "colab": {
          "base_uri": "https://localhost:8080/"
        },
        "id": "BFpqhyRH_ueM",
        "outputId": "39d56f8a-bafd-4488-dfd4-abc7bce64071"
      },
      "outputs": [
        {
          "output_type": "stream",
          "name": "stdout",
          "text": [
            "Second smallest number: 2\n"
          ]
        }
      ],
      "source": [
        "lst = [4, 1, 7, 3, 9, 2]\n",
        "lst = list(set(lst))\n",
        "lst.sort()\n",
        "second_smallest = lst[1] if len(lst) > 1 else None\n",
        "print(\"Second smallest number:\", second_smallest)\n"
      ]
    },
    {
      "cell_type": "markdown",
      "metadata": {
        "id": "UorhPRXV_ueM"
      },
      "source": [
        "##### 40)Write a Python program to get unique values from a list"
      ]
    },
    {
      "cell_type": "code",
      "execution_count": null,
      "metadata": {
        "colab": {
          "base_uri": "https://localhost:8080/"
        },
        "id": "zsRrVsLi_ueM",
        "outputId": "0e160815-03ac-4539-dacd-83f6a271602a"
      },
      "outputs": [
        {
          "output_type": "stream",
          "name": "stdout",
          "text": [
            "Unique values: [1, 2, 3, 4, 5]\n"
          ]
        }
      ],
      "source": [
        "lst = [1, 2, 2, 3, 4, 4, 5]\n",
        "unique_values = list(set(lst))\n",
        "print(\"Unique values:\", unique_values)\n"
      ]
    },
    {
      "cell_type": "markdown",
      "metadata": {
        "id": "R4E8Qz1H_ueM"
      },
      "source": [
        "##### 41)Write a Python program to check whether a list contains a sub list\n"
      ]
    },
    {
      "cell_type": "code",
      "execution_count": null,
      "metadata": {
        "colab": {
          "base_uri": "https://localhost:8080/"
        },
        "id": "G_oj22Z8_ueM",
        "outputId": "7d693d2c-ca87-4323-f7a6-7eaad3f67c5b"
      },
      "outputs": [
        {
          "output_type": "stream",
          "name": "stdout",
          "text": [
            "Contains sublist: True\n"
          ]
        }
      ],
      "source": [
        "def contains_sublist(lst, sublist):\n",
        "    return any(lst[i:i+len(sublist)] == sublist for i in range(len(lst) - len(sublist) + 1))\n",
        "\n",
        "lst = [1, 2, 3, 4, 5]\n",
        "sublist = [3, 4]\n",
        "\n",
        "result = contains_sublist(lst, sublist)\n",
        "print(\"Contains sublist:\", result)\n"
      ]
    },
    {
      "cell_type": "markdown",
      "metadata": {
        "id": "Eg64lyhG_ueM"
      },
      "source": [
        "##### 42)Write a Python program to split a list into different variables."
      ]
    },
    {
      "cell_type": "code",
      "execution_count": null,
      "metadata": {
        "colab": {
          "base_uri": "https://localhost:8080/"
        },
        "id": "W9MkC5I7_ueN",
        "outputId": "7bbfb119-7680-4989-d6f3-6e2ab5236d1b"
      },
      "outputs": [
        {
          "output_type": "stream",
          "name": "stdout",
          "text": [
            "Variables: 1 2 3 4 5\n"
          ]
        }
      ],
      "source": [
        "lst = [1, 2, 3, 4, 5]\n",
        "\n",
        "a, b, c, d, e = lst\n",
        "print(\"Variables:\", a, b, c, d, e)\n"
      ]
    },
    {
      "cell_type": "markdown",
      "metadata": {
        "id": "elvEMYa1_ueN"
      },
      "source": [
        "##### 44)Write a Python program to create a tuple with different data types."
      ]
    },
    {
      "cell_type": "code",
      "execution_count": null,
      "metadata": {
        "colab": {
          "base_uri": "https://localhost:8080/"
        },
        "id": "B_hO8Bb5_ueN",
        "outputId": "142eb0fa-3305-47d9-bf28-32df6110a436"
      },
      "outputs": [
        {
          "output_type": "stream",
          "name": "stdout",
          "text": [
            "Tuple: (1, 'hello', 3.14, True, [1, 2, 3])\n"
          ]
        }
      ],
      "source": [
        "tup = (1, \"hello\", 3.14, True, [1, 2, 3])\n",
        "print(\"Tuple:\", tup)\n"
      ]
    },
    {
      "cell_type": "markdown",
      "metadata": {
        "id": "k9a7AX3Z_ueO"
      },
      "source": [
        "##### 45)Write a Python program to unzip a list of tuples into individual lists."
      ]
    },
    {
      "cell_type": "code",
      "execution_count": null,
      "metadata": {
        "colab": {
          "base_uri": "https://localhost:8080/"
        },
        "id": "JLFPpTKj_ueO",
        "outputId": "cea447c2-fda4-4c4b-8078-b6198879ccd0"
      },
      "outputs": [
        {
          "output_type": "stream",
          "name": "stdout",
          "text": [
            "List 1: (1, 2, 3)\n",
            "List 2: ('a', 'b', 'c')\n"
          ]
        }
      ],
      "source": [
        "lst = [(1, 'a'), (2, 'b'), (3, 'c')]\n",
        "unzipped = zip(*lst)\n",
        "list1, list2 = list(unzipped)\n",
        "print(\"List 1:\", list1)\n",
        "print(\"List 2:\", list2)\n"
      ]
    },
    {
      "cell_type": "markdown",
      "metadata": {
        "id": "iMPX4bn7_ueO"
      },
      "source": [
        "##### 46)Write a Python program to convert a list of tuples into a dictionary"
      ]
    },
    {
      "cell_type": "code",
      "execution_count": null,
      "metadata": {
        "colab": {
          "base_uri": "https://localhost:8080/"
        },
        "id": "Nrvf9Ql8_ueP",
        "outputId": "b4c25fcf-4d91-4a3c-98d4-f5cf0df8abd9"
      },
      "outputs": [
        {
          "output_type": "stream",
          "name": "stdout",
          "text": [
            "Dictionary: {1: 'a', 2: 'b', 3: 'c'}\n"
          ]
        }
      ],
      "source": [
        "lst = [(1, 'a'), (2, 'b'), (3, 'c')]\n",
        "dictionary = dict(lst)\n",
        "print(\"Dictionary:\", dictionary)\n"
      ]
    },
    {
      "cell_type": "markdown",
      "metadata": {
        "id": "6i8srqZ5_ueP"
      },
      "source": [
        "##### 48)Write a Python script to sort (ascending and descending) a dictionary by value."
      ]
    },
    {
      "cell_type": "code",
      "execution_count": null,
      "metadata": {
        "colab": {
          "base_uri": "https://localhost:8080/"
        },
        "id": "PltxoSGl_ueP",
        "outputId": "3d556616-4147-4922-ca39-e81c41708342"
      },
      "outputs": [
        {
          "output_type": "stream",
          "name": "stdout",
          "text": [
            "Sorted by value (ascending): {1: 'apple', 2: 'banana', 3: 'cherry', 4: 'date'}\n",
            "Sorted by value (descending): {4: 'date', 3: 'cherry', 2: 'banana', 1: 'apple'}\n"
          ]
        }
      ],
      "source": [
        "d = {1: 'apple', 2: 'banana', 3: 'cherry', 4: 'date'}\n",
        "\n",
        "sorted_asc = dict(sorted(d.items(), key=lambda item: item[1]))\n",
        "print(\"Sorted by value (ascending):\", sorted_asc)\n",
        "\n",
        "sorted_desc = dict(sorted(d.items(), key=lambda item: item[1], reverse=True))\n",
        "print(\"Sorted by value (descending):\", sorted_desc)\n"
      ]
    },
    {
      "cell_type": "markdown",
      "metadata": {
        "id": "iGVui8Zf_ueP"
      },
      "source": [
        "##### 49)Write a Python script to concatenate following dictionaries to create a new one."
      ]
    },
    {
      "cell_type": "code",
      "execution_count": null,
      "metadata": {
        "colab": {
          "base_uri": "https://localhost:8080/"
        },
        "id": "fukSdbTK_ueQ",
        "outputId": "33b7f236-6d69-4dac-85aa-f8439e1b0e1b"
      },
      "outputs": [
        {
          "output_type": "stream",
          "name": "stdout",
          "text": [
            "Concatenated dictionary: {1: 'a', 2: 'b', 3: 'c', 4: 'd', 5: 'e'}\n"
          ]
        }
      ],
      "source": [
        "d1 = {1: 'a', 2: 'b'}\n",
        "d2 = {3: 'c', 4: 'd'}\n",
        "d3 = {5: 'e'}\n",
        "\n",
        "new_dict = {**d1, **d2, **d3}\n",
        "print(\"Concatenated dictionary:\", new_dict)\n"
      ]
    },
    {
      "cell_type": "markdown",
      "metadata": {
        "id": "6d8pmTOZ_ueQ"
      },
      "source": [
        "##### 50)Write a Python script to check if a given key already exists in a dictionary."
      ]
    },
    {
      "cell_type": "code",
      "execution_count": null,
      "metadata": {
        "colab": {
          "base_uri": "https://localhost:8080/"
        },
        "id": "uOJBUydO_ueQ",
        "outputId": "af56bf8a-cab8-41b5-9e74-6a5282c27430"
      },
      "outputs": [
        {
          "output_type": "stream",
          "name": "stdout",
          "text": [
            "Key exists in the dictionary.\n"
          ]
        }
      ],
      "source": [
        "d = {1: 'a', 2: 'b', 3: 'c'}\n",
        "\n",
        "key = 2\n",
        "if key in d:\n",
        "    print(\"Key exists in the dictionary.\")\n",
        "else:\n",
        "    print(\"Key does not exist in the dictionary.\")\n"
      ]
    },
    {
      "cell_type": "markdown",
      "metadata": {
        "id": "BWSupfM7_ueQ"
      },
      "source": [
        "##### 53)Write a Python script to print a dictionary where the keys are numbers between 1 and 15."
      ]
    },
    {
      "cell_type": "code",
      "execution_count": null,
      "metadata": {
        "colab": {
          "base_uri": "https://localhost:8080/"
        },
        "id": "LWuFj7Lm_ueQ",
        "outputId": "eee0f986-b67c-459d-b55f-ba78fd4664f5"
      },
      "outputs": [
        {
          "output_type": "stream",
          "name": "stdout",
          "text": [
            "Dictionary: {1: 1, 2: 2, 3: 3, 4: 4, 5: 5, 6: 6, 7: 7, 8: 8, 9: 9, 10: 10, 11: 11, 12: 12, 13: 13, 14: 14, 15: 15}\n"
          ]
        }
      ],
      "source": [
        "d = {i: i for i in range(1, 16)}\n",
        "print(\"Dictionary:\", d)\n"
      ]
    },
    {
      "cell_type": "markdown",
      "metadata": {
        "id": "v_TUNaDm_ueQ"
      },
      "source": [
        "##### 54)Write a Python program to check multiple keys exists in a dictionary\n"
      ]
    },
    {
      "cell_type": "code",
      "execution_count": null,
      "metadata": {
        "colab": {
          "base_uri": "https://localhost:8080/"
        },
        "id": "_37wpCE9_ueR",
        "outputId": "26011342-7173-4492-e145-5eefdd5aa85f"
      },
      "outputs": [
        {
          "output_type": "stream",
          "name": "stdout",
          "text": [
            "Not all keys exist in the dictionary.\n"
          ]
        }
      ],
      "source": [
        "d = {1: 'a', 2: 'b', 3: 'c', 4: 'd'}\n",
        "\n",
        "keys = [1, 2, 5]\n",
        "\n",
        "if all(key in d for key in keys):\n",
        "    print(\"All keys exist in the dictionary.\")\n",
        "else:\n",
        "    print(\"Not all keys exist in the dictionary.\")\n"
      ]
    },
    {
      "cell_type": "markdown",
      "metadata": {
        "id": "ixB52sRC_ueR"
      },
      "source": [
        "##### 55)Write a Python script to merge two Python dictionaries\n"
      ]
    },
    {
      "cell_type": "code",
      "execution_count": null,
      "metadata": {
        "colab": {
          "base_uri": "https://localhost:8080/"
        },
        "id": "na1jsSVi_ueR",
        "outputId": "842019db-d9b8-49dd-d4ef-b443495c1460"
      },
      "outputs": [
        {
          "output_type": "stream",
          "name": "stdout",
          "text": [
            "Merged dictionary: {1: 'a', 2: 'b', 3: 'c', 4: 'd'}\n"
          ]
        }
      ],
      "source": [
        "d1 = {1: 'a', 2: 'b'}\n",
        "d2 = {3: 'c', 4: 'd'}\n",
        "\n",
        "merged_dict = {**d1, **d2}\n",
        "print(\"Merged dictionary:\", merged_dict)\n"
      ]
    },
    {
      "cell_type": "markdown",
      "metadata": {
        "id": "LZdtdY9D_ueR"
      },
      "source": [
        "##### 56)Write a Python program to map two lists into a dictionary Sample output: Counter ({'a': 400, 'b': 400,’d’: 400, 'c': 300})."
      ]
    },
    {
      "cell_type": "code",
      "execution_count": null,
      "metadata": {
        "colab": {
          "base_uri": "https://localhost:8080/"
        },
        "id": "N3RMA1hA_ueS",
        "outputId": "a72b379d-b4e1-411b-a0c9-43abc8a700f2"
      },
      "outputs": [
        {
          "output_type": "stream",
          "name": "stdout",
          "text": [
            "Mapped dictionary: {'a': 400, 'b': 400, 'c': 300, 'd': 400}\n"
          ]
        }
      ],
      "source": [
        "keys = ['a', 'b', 'c', 'd']\n",
        "values = [400, 400, 300, 400]\n",
        "\n",
        "mapped_dict = dict(zip(keys, values))\n",
        "print(\"Mapped dictionary:\", mapped_dict)\n"
      ]
    },
    {
      "cell_type": "markdown",
      "metadata": {
        "id": "U7NpD6oG_ueS"
      },
      "source": [
        "##### 57)Write a Python program to find the highest 3 values in a dictionary"
      ]
    },
    {
      "cell_type": "code",
      "execution_count": null,
      "metadata": {
        "colab": {
          "base_uri": "https://localhost:8080/"
        },
        "id": "Rhot9wK3_ueS",
        "outputId": "73b312e1-0490-42cf-c39f-e44911998b47"
      },
      "outputs": [
        {
          "output_type": "stream",
          "name": "stdout",
          "text": [
            "Highest 3 values: [500, 400, 300]\n"
          ]
        }
      ],
      "source": [
        "d = {'a': 100, 'b': 200, 'c': 300, 'd': 400, 'e': 500}\n",
        "\n",
        "highest_values = sorted(d.values(), reverse=True)[:3]\n",
        "print(\"Highest 3 values:\", highest_values)\n"
      ]
    },
    {
      "cell_type": "markdown",
      "metadata": {
        "id": "65oNgO0K_ueW"
      },
      "source": [
        "##### 58)Write a Python program to combine values in python list of dictionaries.\n",
        "##### Sample data: [{'item': 'item1', 'amount': 400}, {'item': 'item2', 'amount': 300}, o {'item': 'item1', 'amount': 750}] Expected Output: Counter ({'item1': 1150, 'item2': 300})"
      ]
    },
    {
      "cell_type": "code",
      "execution_count": null,
      "metadata": {
        "colab": {
          "base_uri": "https://localhost:8080/"
        },
        "id": "xl4AnWVX_ueX",
        "outputId": "87c5a25f-fa05-41b9-a073-3dad89cf12c2"
      },
      "outputs": [
        {
          "output_type": "stream",
          "name": "stdout",
          "text": [
            "Counter: Counter({'item1': 1150, 'item2': 300})\n"
          ]
        }
      ],
      "source": [
        "from collections import Counter\n",
        "\n",
        "data = [{'item': 'item1', 'amount': 400}, {'item': 'item2', 'amount': 300}, {'item': 'item1', 'amount': 750}]\n",
        "\n",
        "result = Counter()\n",
        "\n",
        "for entry in data:\n",
        "    result[entry['item']] += entry['amount']\n",
        "\n",
        "print(\"Counter:\", result)\n"
      ]
    },
    {
      "cell_type": "markdown",
      "metadata": {
        "id": "KmP5N-GU_ueX"
      },
      "source": [
        "##### 59)Write a Python program to create a dictionary from a string. Note: Track the count of the letters from the string."
      ]
    },
    {
      "cell_type": "code",
      "execution_count": null,
      "metadata": {
        "colab": {
          "base_uri": "https://localhost:8080/"
        },
        "id": "90nx3bxD_ueX",
        "outputId": "d714efb7-a116-4964-de1d-1af1ac60a22a"
      },
      "outputs": [
        {
          "output_type": "stream",
          "name": "stdout",
          "text": [
            "Letter count: {'h': 1, 'e': 1, 'l': 3, 'o': 2, 'w': 1, 'r': 1, 'd': 1}\n"
          ]
        }
      ],
      "source": [
        "s = \"hello world\"\n",
        "\n",
        "letter_count = {}\n",
        "\n",
        "for letter in s:\n",
        "    if letter != ' ':\n",
        "        letter_count[letter] = letter_count.get(letter, 0) + 1\n",
        "\n",
        "print(\"Letter count:\", letter_count)\n"
      ]
    },
    {
      "cell_type": "markdown",
      "metadata": {
        "id": "G2327BSh_ueX"
      },
      "source": [
        "##### 60)Sample string: 'w3resource' Expected output:  {'3': 1,’s’: 1, 'r': 2, 'u': 1, 'w': 1, 'c': 1, 'e': 2, 'o': 1}"
      ]
    },
    {
      "cell_type": "code",
      "execution_count": null,
      "metadata": {
        "colab": {
          "base_uri": "https://localhost:8080/"
        },
        "id": "tdg7e0mW_ueY",
        "outputId": "68ed79f9-2864-4094-aff4-00b23b9b9d62"
      },
      "outputs": [
        {
          "output_type": "stream",
          "name": "stdout",
          "text": [
            "Letter count: {'w': 1, '3': 1, 'r': 2, 'e': 2, 's': 1, 'o': 1, 'u': 1, 'c': 1}\n"
          ]
        }
      ],
      "source": [
        "s = 'w3resource'\n",
        "\n",
        "letter_count = {}\n",
        "\n",
        "for letter in s:\n",
        "    letter_count[letter] = letter_count.get(letter, 0) + 1\n",
        "\n",
        "print(\"Letter count:\", letter_count)\n"
      ]
    },
    {
      "cell_type": "markdown",
      "metadata": {
        "id": "BuMI-pv1_ueY"
      },
      "source": [
        "##### 61)Write a Python function to calculate the factorial of a number (a nonnegative integer)\n",
        "\n"
      ]
    },
    {
      "cell_type": "code",
      "execution_count": null,
      "metadata": {
        "colab": {
          "base_uri": "https://localhost:8080/"
        },
        "id": "Ijv9wA_J_ueY",
        "outputId": "efa693e0-6953-4624-b7e2-11aeb792d6df"
      },
      "outputs": [
        {
          "output_type": "stream",
          "name": "stdout",
          "text": [
            "Enter a number: 5\n",
            "Factorial of 5 is 120\n"
          ]
        }
      ],
      "source": [
        "def factorial(n):\n",
        "    if n == 0 or n == 1:\n",
        "        return 1\n",
        "    else:\n",
        "        return n * factorial(n - 1)\n",
        "\n",
        "num = int(input(\"Enter a number: \"))\n",
        "result = factorial(num)\n",
        "print(\"Factorial of\", num, \"is\", result)\n"
      ]
    },
    {
      "cell_type": "markdown",
      "metadata": {
        "id": "-Ehkowky_ueY"
      },
      "source": [
        "##### 62)Write a Python function to check whether a number is in a given range\n",
        "\n"
      ]
    },
    {
      "cell_type": "code",
      "execution_count": null,
      "metadata": {
        "colab": {
          "base_uri": "https://localhost:8080/"
        },
        "id": "ZB6AnXpz_ueY",
        "outputId": "fdf2421a-ea69-4427-bc98-9bc398267376"
      },
      "outputs": [
        {
          "output_type": "stream",
          "name": "stdout",
          "text": [
            "Enter a number: 6\n",
            "Enter the start of the range: 4\n",
            "Enter the end of the range: 3\n",
            "Is the number 6 in the range 4 to 3? False\n"
          ]
        }
      ],
      "source": [
        "def check_range(num, start, end):\n",
        "    if start <= num <= end:\n",
        "        return True\n",
        "    else:\n",
        "        return False\n",
        "\n",
        "num = int(input(\"Enter a number: \"))\n",
        "start = int(input(\"Enter the start of the range: \"))\n",
        "end = int(input(\"Enter the end of the range: \"))\n",
        "\n",
        "result = check_range(num, start, end)\n",
        "print(f\"Is the number {num} in the range {start} to {end}? {result}\")\n"
      ]
    },
    {
      "cell_type": "markdown",
      "metadata": {
        "id": "fAMHOTeP_ueZ"
      },
      "source": [
        "##### 63)Write a Python function to check whether a number is perfect or not."
      ]
    },
    {
      "cell_type": "code",
      "execution_count": null,
      "metadata": {
        "colab": {
          "base_uri": "https://localhost:8080/"
        },
        "id": "5wtdOilJ_ueZ",
        "outputId": "44009b7a-8847-4074-81f8-d71ce490994f"
      },
      "outputs": [
        {
          "output_type": "stream",
          "name": "stdout",
          "text": [
            "Enter a number: 55\n",
            "Is the number 55 perfect? False\n"
          ]
        }
      ],
      "source": [
        "def is_perfect(num):\n",
        "    if num < 1:\n",
        "        return False\n",
        "    divisors_sum = sum(i for i in range(1, num) if num % i == 0)\n",
        "    return divisors_sum == num\n",
        "\n",
        "num = int(input(\"Enter a number: \"))\n",
        "result = is_perfect(num)\n",
        "print(f\"Is the number {num} perfect? {result}\")\n"
      ]
    },
    {
      "cell_type": "markdown",
      "metadata": {
        "id": "yzoX_Xat_ueZ"
      },
      "source": [
        "##### 64)Write a Python function that checks whether a passed string is palindrome or not\n"
      ]
    },
    {
      "cell_type": "code",
      "execution_count": null,
      "metadata": {
        "colab": {
          "base_uri": "https://localhost:8080/"
        },
        "id": "iH8iZt-D_uea",
        "outputId": "dab75bd4-9447-4fa4-a21d-4f5efc5837c6"
      },
      "outputs": [
        {
          "output_type": "stream",
          "name": "stdout",
          "text": [
            "Enter a string: 'afdtud'\n",
            "Is the string ''afdtud'' a palindrome? False\n"
          ]
        }
      ],
      "source": [
        "def is_palindrome(s):\n",
        "    return s == s[::-1]\n",
        "\n",
        "s = input(\"Enter a string: \")\n",
        "result = is_palindrome(s)\n",
        "print(f\"Is the string '{s}' a palindrome? {result}\")\n"
      ]
    },
    {
      "cell_type": "markdown",
      "metadata": {
        "id": "nP_NmERP_uea"
      },
      "source": [
        "##### 72)Write a Python program to read an entire text file"
      ]
    },
    {
      "cell_type": "code",
      "execution_count": null,
      "metadata": {
        "colab": {
          "base_uri": "https://localhost:8080/"
        },
        "id": "bThusDGa_uea",
        "outputId": "831bebff-f21b-4c02-e41f-0cb702341764"
      },
      "outputs": [
        {
          "output_type": "stream",
          "name": "stdout",
          "text": [
            "apple\n",
            "banana\n",
            "cherry\n",
            "\n"
          ]
        }
      ],
      "source": [
        "with open('file.txt', 'r') as file:\n",
        "    content = file.read()\n",
        "    print(content)\n"
      ]
    },
    {
      "cell_type": "markdown",
      "metadata": {
        "id": "0iQqxg-8_uea"
      },
      "source": [
        "##### 73)Write a Python program to append text to a file and display the text.\n"
      ]
    },
    {
      "cell_type": "code",
      "execution_count": null,
      "metadata": {
        "colab": {
          "base_uri": "https://localhost:8080/"
        },
        "id": "3OEaBiuX_uea",
        "outputId": "206416f0-2485-41a5-cb5b-8e46b17adc87"
      },
      "outputs": [
        {
          "output_type": "stream",
          "name": "stdout",
          "text": [
            "apple\n",
            "banana\n",
            "cherry\n",
            "Appending new text to the file.\n",
            "\n"
          ]
        }
      ],
      "source": [
        "with open('file.txt', 'a') as file:\n",
        "    file.write('Appending new text to the file.\\n')\n",
        "\n",
        "with open('file.txt', 'r') as file:\n",
        "    content = file.read()\n",
        "    print(content)\n"
      ]
    },
    {
      "cell_type": "markdown",
      "metadata": {
        "id": "LUkz73HX_uea"
      },
      "source": [
        "##### 74)Write a Python program to read first n lines of a file."
      ]
    },
    {
      "cell_type": "code",
      "execution_count": null,
      "metadata": {
        "colab": {
          "base_uri": "https://localhost:8080/"
        },
        "id": "NLnfFHYB_uea",
        "outputId": "bf2e4560-9ac2-4404-dc39-6b1ee8e328fe"
      },
      "outputs": [
        {
          "output_type": "stream",
          "name": "stdout",
          "text": [
            "Enter the number of lines to read: 6\n",
            "apple\n",
            "banana\n",
            "cherry\n",
            "Appending new text to the file.\n"
          ]
        }
      ],
      "source": [
        "def read_n_lines(file_name, n):\n",
        "    with open(file_name, 'r') as file:\n",
        "        for _ in range(n):\n",
        "            print(file.readline(), end='')\n",
        "\n",
        "file_name = 'file.txt'  # Replace with your file path\n",
        "n = int(input(\"Enter the number of lines to read: \"))\n",
        "read_n_lines(file_name, n)\n"
      ]
    },
    {
      "cell_type": "markdown",
      "metadata": {
        "id": "cumv4VrJ_ueb"
      },
      "source": [
        "##### 75)Write a Python program to read last n lines of a file.\n"
      ]
    },
    {
      "cell_type": "code",
      "execution_count": null,
      "metadata": {
        "colab": {
          "base_uri": "https://localhost:8080/"
        },
        "id": "uEkhqCrx_ueb",
        "outputId": "5d3e0be0-669c-4505-f4a9-92c73105ce8b"
      },
      "outputs": [
        {
          "output_type": "stream",
          "name": "stdout",
          "text": [
            "Enter the number of lines to read from the end: 4\n",
            "apple\n",
            "banana\n",
            "cherry\n",
            "Appending new text to the file.\n"
          ]
        }
      ],
      "source": [
        "def read_last_n_lines(file_name, n):\n",
        "    with open(file_name, 'r') as file:\n",
        "        lines = file.readlines()\n",
        "        for line in lines[-n:]:\n",
        "            print(line, end='')\n",
        "\n",
        "file_name = 'file.txt'\n",
        "n = int(input(\"Enter the number of lines to read from the end: \"))\n",
        "read_last_n_lines(file_name, n)\n"
      ]
    },
    {
      "cell_type": "markdown",
      "metadata": {
        "id": "au5ozrEH_ueb"
      },
      "source": [
        "##### 76)Write a Python program to read a file line by line and store it into a list"
      ]
    },
    {
      "cell_type": "code",
      "execution_count": null,
      "metadata": {
        "colab": {
          "base_uri": "https://localhost:8080/"
        },
        "id": "MBsHJjqg_ueb",
        "outputId": "5c7be762-5c65-499b-cd64-2718512e77b3"
      },
      "outputs": [
        {
          "output_type": "stream",
          "name": "stdout",
          "text": [
            "['apple\\n', 'banana\\n', 'cherry\\n', 'Appending new text to the file.\\n']\n"
          ]
        }
      ],
      "source": [
        "def read_lines_to_list(file_name):\n",
        "    with open(file_name, 'r') as file:\n",
        "        lines = file.readlines()\n",
        "    return lines\n",
        "\n",
        "file_name = 'file.txt'  # Replace with your file path\n",
        "lines_list = read_lines_to_list(file_name)\n",
        "print(lines_list)\n"
      ]
    },
    {
      "cell_type": "markdown",
      "metadata": {
        "id": "427u8Ufw_ueb"
      },
      "source": [
        "##### 77)Write a Python program to read a file line by line store it into a variable.\n"
      ]
    },
    {
      "cell_type": "code",
      "execution_count": null,
      "metadata": {
        "colab": {
          "base_uri": "https://localhost:8080/"
        },
        "id": "zlcuXU50_ueb",
        "outputId": "cc49e970-f794-414a-ef41-8df8b7739f5a"
      },
      "outputs": [
        {
          "output_type": "stream",
          "name": "stdout",
          "text": [
            "apple\n",
            "banana\n",
            "cherry\n",
            "Appending new text to the file.\n",
            "\n"
          ]
        }
      ],
      "source": [
        "def read_lines_to_variable(file_name):\n",
        "    with open(file_name, 'r') as file:\n",
        "        content = file.read()\n",
        "    return content\n",
        "\n",
        "file_name = 'file.txt'\n",
        "content = read_lines_to_variable(file_name)\n",
        "print(content)\n"
      ]
    },
    {
      "cell_type": "markdown",
      "metadata": {
        "id": "chfuw4y2_uec"
      },
      "source": [
        "##### 78)Write a python program to find the longest words.\n"
      ]
    },
    {
      "cell_type": "code",
      "execution_count": null,
      "metadata": {
        "colab": {
          "base_uri": "https://localhost:8080/"
        },
        "id": "FTMovT1n_uec",
        "outputId": "aaa11e6f-50c0-4f60-858e-41405c38f4fb"
      },
      "outputs": [
        {
          "output_type": "stream",
          "name": "stdout",
          "text": [
            "Longest word: program\n"
          ]
        }
      ],
      "source": [
        "def find_longest_word(text):\n",
        "    words = text.split()\n",
        "    longest_word = max(words, key=len)\n",
        "    return longest_word\n",
        "\n",
        "text = \"Write a python program to find the longest words\"\n",
        "longest_word = find_longest_word(text)\n",
        "print(\"Longest word:\", longest_word)\n"
      ]
    },
    {
      "cell_type": "markdown",
      "metadata": {
        "id": "wraGtqiZ_uec"
      },
      "source": [
        "##### 79)Write a Python program to count the number of lines in a text file."
      ]
    },
    {
      "cell_type": "code",
      "execution_count": null,
      "metadata": {
        "colab": {
          "base_uri": "https://localhost:8080/"
        },
        "id": "9mXoJStq_uec",
        "outputId": "44205d68-1429-4e18-de2c-00b7ae66ce9a"
      },
      "outputs": [
        {
          "output_type": "stream",
          "name": "stdout",
          "text": [
            "Number of lines in the file: 4\n"
          ]
        }
      ],
      "source": [
        "def count_lines_in_file(file_name):\n",
        "    with open(file_name, 'r') as file:\n",
        "        lines = file.readlines()\n",
        "    return len(lines)\n",
        "\n",
        "file_name = 'file.txt'  # Replace with your file path\n",
        "line_count = count_lines_in_file(file_name)\n",
        "print(\"Number of lines in the file:\", line_count)\n"
      ]
    },
    {
      "cell_type": "markdown",
      "metadata": {
        "id": "lhWod1vY_uec"
      },
      "source": [
        "##### 80)Write a Python program to count the frequency of words in a file"
      ]
    },
    {
      "cell_type": "code",
      "execution_count": null,
      "metadata": {
        "colab": {
          "base_uri": "https://localhost:8080/"
        },
        "id": "yk_gEfZB_uec",
        "outputId": "b363f9e3-81de-43e2-bea9-fe9b6009821e"
      },
      "outputs": [
        {
          "output_type": "stream",
          "name": "stdout",
          "text": [
            "Word frequency: Counter({'apple': 1, 'banana': 1, 'cherry': 1, 'Appending': 1, 'new': 1, 'text': 1, 'to': 1, 'the': 1, 'file.': 1})\n"
          ]
        }
      ],
      "source": [
        "from collections import Counter\n",
        "\n",
        "def countfrequency(file_name):\n",
        "    with open(file_name, 'r') as file:\n",
        "        words = file.read().split()\n",
        "    return Counter(words)\n",
        "\n",
        "file_name = 'file.txt'  # Replace with your file path\n",
        "word_frequency = countfrequency(file_name)\n",
        "print(\"Word frequency:\", word_frequency)\n"
      ]
    },
    {
      "cell_type": "markdown",
      "metadata": {
        "id": "Qd7BhuJr_ued"
      },
      "source": [
        "##### 81)Write a Python program to write a list to a file."
      ]
    },
    {
      "cell_type": "code",
      "execution_count": null,
      "metadata": {
        "id": "3xMi50mG_ued"
      },
      "outputs": [],
      "source": [
        "def write_listfile(file_name, data):\n",
        "    with open(file_name, 'w') as file:\n",
        "        for item in data:\n",
        "            file.write(f\"{item}\\n\")\n",
        "\n",
        "data = ['apple', 'banana', 'cherry']\n",
        "file_name = 'file.txt'  # Replace with your file path\n",
        "write_listfile(file_name, data)\n"
      ]
    },
    {
      "cell_type": "markdown",
      "metadata": {
        "id": "NAOcOhj5_ued"
      },
      "source": [
        "##### 82)Write a Python program to copy the contents of a file to another file"
      ]
    },
    {
      "cell_type": "code",
      "execution_count": null,
      "metadata": {
        "id": "H7fblju4_ued"
      },
      "outputs": [],
      "source": [
        "def copycontents(source_file, destination_file):\n",
        "     with open(source_file, 'r') as src:\n",
        "        content = src.read()\n",
        "     with open(destination_file, 'w') as dest:\n",
        "        dest.write(content)\n",
        "\n",
        "source_file = 'sourcee.txt'  # Replace with the path of your source file\n",
        "destination_file = 'destination.txt'  # Replace with the path of your destination file\n",
        "copycontents(source_file, destination_file)\n"
      ]
    },
    {
      "cell_type": "markdown",
      "metadata": {
        "id": "nqSXs9JD_ued"
      },
      "source": [
        "##### 90)Write python program that user to enter only odd numbers, else will raise an exception"
      ]
    },
    {
      "cell_type": "code",
      "execution_count": 1,
      "metadata": {
        "colab": {
          "base_uri": "https://localhost:8080/"
        },
        "id": "xT_-AWMQ_uee",
        "outputId": "3ff17c80-0f23-4699-8a63-418ebdf64168"
      },
      "outputs": [
        {
          "output_type": "stream",
          "name": "stdout",
          "text": [
            "Enter an odd number: 9\n",
            "Thank you! You entered the odd number: 9\n"
          ]
        }
      ],
      "source": [
        "def getoddnumber():\n",
        "    try:\n",
        "        number = int(input(\"Enter an odd number: \"))\n",
        "        if number % 2 == 0:\n",
        "            raise ValueError(\"This is not an odd number.\")\n",
        "        else:\n",
        "            print(f\"Thank you! You entered the odd number: {number}\")\n",
        "    except ValueError as e:\n",
        "        print(e)\n",
        "\n",
        "getoddnumber()\n"
      ]
    }
  ],
  "metadata": {
    "kernelspec": {
      "display_name": "Python 3",
      "language": "python",
      "name": "python3"
    },
    "language_info": {
      "codemirror_mode": {
        "name": "ipython",
        "version": 3
      },
      "file_extension": ".py",
      "mimetype": "text/x-python",
      "name": "python",
      "nbconvert_exporter": "python",
      "pygments_lexer": "ipython3",
      "version": "3.11.4"
    },
    "colab": {
      "provenance": []
    }
  },
  "nbformat": 4,
  "nbformat_minor": 0
}